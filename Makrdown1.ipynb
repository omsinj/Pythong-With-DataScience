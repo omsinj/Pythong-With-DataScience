{
 "cells": [
  {
   "cell_type": "markdown",
   "metadata": {},
   "source": [
    "# Session 3 – Deep Dive: Data Structures, Algorithm Complexity, and Big O\n",
    "\n",
    "**Instructor:** Your Name  \n",
    "**Date:** 2025-08-21\n",
    "\n",
    "---\n",
    "\n",
    "## Introduction\n",
    "Welcome to Session 3! Today we are going to explore how Python organizes data and how we can reason about the efficiency of our programs. Think of it like organizing a **factory warehouse**: if everything is in the right place, your workflow becomes lightning fast."
   ]
  },
  {
   "cell_type": "markdown",
   "metadata": {},
   "source": [
    "## 1. Lists – The Flexible Shelf\n",
    "\n",
    "**Concept:** Ordered, mutable sequences.\n",
    "**Analogy:** Adjustable shelves in a warehouse where you can add, remove, or reorder items.\n",
    "\n",
    "Lists are ideal when you need to **store sequences that change frequently**.\n",
    "\n",
    "**Python Demo:**"
   ]
  },
  {
   "cell_type": "code",
   "metadata": {},
   "source": [
    "# List example\n",
    "tools = ['hammer', 'screwdriver', 'wrench']\n",
    "tools.append('pliers')  # Add a new tool\n",
    "tools.remove('wrench')  # Remove a tool\n",
    "print('Current tools on shelf:', tools)"
   ],
   "execution_count": null,
   "outputs": []
  },
  {
   "cell_type": "markdown",
   "metadata": {},
   "source": [
    "**Everyday Example:** Your grocery shopping list. You can add 'milk', remove 'bread', or reorder items easily.\n",
    "\n",
    "**Technical Note:** Accessing an item by index is fast (O(1)), but searching for an element requires scanning the list (O(n))."
   ]
  },
  {
   "cell_type": "code",
   "metadata": {},
   "source": [
    "# Visualizing a list as shelves\n",
    "import matplotlib.pyplot as plt\n",
    "\n",
    "tools = ['hammer', 'screwdriver', 'pliers']\n",
    "fig, ax = plt.subplots(figsize=(6,1))\n",
    "ax.barh([0]*len(tools), [1]*len(tools), tick_label=tools, color='skyblue')\n",
    "ax.set_xlim(0,1)\n",
    "ax.set_yticks([])\n",
    "ax.set_title('List Visualization – Each item is a shelf')\n",
    "plt.show()"
   ],
   "execution_count": null,
   "outputs": []
  },
  {
   "cell_type": "markdown",
   "metadata": {},
   "source": [
    "## 2. Tuples – The Locked Box\n",
    "\n",
    "**Concept:** Ordered, immutable sequences.\n",
    "**Analogy:** Sealed boxes with instructions inside. You can see the contents but cannot change them.\n",
    "\n",
    "Tuples are ideal for **data that should never change**."
   ]
  },
  {
   "cell_type": "code",
   "metadata": {},
   "source": [
    "machine_settings = (100, 200, 300)\n",
    "print('Machine settings tuple:', machine_settings)\n",
    "# machine_settings[0] = 150  # ❌ This will raise an error"
   ],
   "execution_count": null,
   "outputs": []
  },
  {
   "cell_type": "code",
   "metadata": {},
   "source": [
    "# Visualize tuple as sealed boxes\n",
    "labels = ['Speed', 'Power', 'Temperature']\n",
    "values = list(machine_settings)\n",
    "fig, ax = plt.subplots(figsize=(6,1))\n",
    "ax.barh([0]*len(values), values, tick_label=labels, color='lightgreen')\n",
    "ax.set_yticks([])\n",
    "ax.set_title('Tuple Visualization – Immutable sealed boxes')\n",
    "plt.show()"
   ],
   "execution_count": null,
   "outputs": []
  },
  {
   "cell_type": "markdown",
   "metadata": {},
   "source": [
    "## 3. Sets – The Unique ID System\n",
    "\n",
    "**Concept:** Unordered collections of unique elements.\n",
    "**Analogy:** Security ID cards. Each person can only have one unique card.\n",
    "\n",
    "Sets are great for **de-duplication and fast membership tests**."
   ]
  },
  {
   "cell_type": "code",
   "metadata": {},
   "source": [
    "workers = {'Alice', 'Bob', 'Charlie'}\n",
    "workers.add('Alice')  # Duplicate ignored\n",
    "print('Unique workers:', workers)"
   ],
   "execution_count": null,
   "outputs": []
  },
  {
   "cell_type": "code",
   "metadata": {},
   "source": [
    "# Visualize set as ID cards\n",
    "import networkx as nx\n",
    "G = nx.Graph()\n",
    "for worker in workers:\n",
    "    G.add_node(worker)\n",
    "\n",
    "pos = nx.circular_layout(G)\n",
    "nx.draw(G, pos, with_labels=True, node_color='orange', node_size=1500)\n",
    "plt.title('Set Visualization – Unique IDs')\n",
    "plt.show()"
   ],
   "execution_count": null,
   "outputs": []
  },
  {
   "cell_type": "markdown",
   "metadata": {},
   "source": [
    "## 4. Dictionaries – The Smart Catalog\n",
    "\n",
    "**Concept:** Key-value pairs for fast lookup.\n",
    "**Analogy:** Factory parts catalog. Look up a part number and instantly get its description.\n",
    "\n",
    "Dictionaries are perfect for **structured data**."
   ]
  },
  {
   "cell_type": "code",
   "metadata": {},
   "source": [
    "parts_catalog = {'bolt': 100, 'nut': 200, 'screw': 300}\n",
    "print('Price of a nut:', parts_catalog['nut'])"
   ],
   "execution_count": null,
   "outputs": []
  },
  {
   "cell_type": "code",
   "metadata": {},
   "source": [
    "# Visualize dictionary as key-value mapping\n",
    "fig, ax = plt.subplots()\n",
    "keys = list(parts_catalog.keys())\n",
    "values = list(parts_catalog.values())\n",
    "ax.bar(keys, values, color='violet')\n",
    "ax.set_title('Dictionary Visualization – Key:Value mapping')\n",
    "ax.set_ylabel('Price')\n",
    "plt.show()"
   ],
   "execution_count": null,
   "outputs": []
  },
  {
   "cell_type": "markdown",
   "metadata": {},
   "source": [
    "## 5. Algorithm Complexity and Big O Notation\n",
    "\n",
    "**Concept:** How runtime or memory grows with input size.\n",
    "\n",
    "Story: Searching for a defective part on a conveyor belt.\n",
    "- Walk once: O(n)\n",
    "- Check checklist: O(1)\n",
    "- Nested comparison: O(n²)"
   ]
  },
  {
   "cell_type": "code",
   "metadata": {},
   "source": [
    "import time\n",
    "\n",
    "numbers_list = list(range(10000))\n",
    "numbers_set = set(numbers_list)\n",
    "\n",
    "# Lookup in list\n",
    "start = time.time()\n",
    "9999 in numbers_list\n",
    "print('List lookup time:', time.time() - start)\n",
    "\n",
    "# Lookup in set\n",
    "start = time.time()\n",
    "9999 in numbers_set\n",
    "print('Set lookup time:', time.time() - start)"
   ],
   "execution_count": null,
   "outputs": []
  },
  {
   "cell_type": "markdown",
   "metadata": {},
   "source": [
    "### Big O Table\n",
    "\n",
    "| Big O | Description | Example |\n",
    "|-------|------------|---------|\n",
    "| O(1)  | Constant | Grab an item from a known shelf |\n",
    "| O(n)  | Linear   | Walk a row to find an item |\n",
    "| O(n²) | Quadratic| Compare every shelf with every other shelf |"
   ]
  }
 ],
 "metadata": {
  "kernelspec": {
   "display_name": "Python 3",
   "language": "python",
   "name": "python3"
  },
  "language_info": {
   "name": "python",
   "version": "3.11"
  }
 },
 "nbformat": 4,
 "nbformat_minor": 5
}
